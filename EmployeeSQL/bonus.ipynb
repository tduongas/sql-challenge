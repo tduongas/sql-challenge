{
 "cells": [
  {
   "cell_type": "code",
   "execution_count": 3,
   "metadata": {},
   "outputs": [],
   "source": [
    "#!/usr/bin/env python\n",
    "import databaseconfig as cfg\n",
    "from sqlalchemy import create_engine\n",
    "\n",
    "engine = create_engine('postgresql://'+cfg.postgres[\"user\"]+':'+cfg.postgres[\"passwd\"]+'@'+cfg.postgres[\"host\"]+':5432/'+cfg.postgres[\"db_name\"])"
   ]
  },
  {
   "cell_type": "code",
   "execution_count": 4,
   "metadata": {},
   "outputs": [
    {
     "data": {
      "text/plain": [
       "[(473302, 's0001', '7/25/53', 'Hideyuki', 'Zallocco', 'M', datetime.date(1990, 4, 28)),\n",
       " (475053, 'e0002', '11/18/54', 'Byong', 'Delgrande', 'F', datetime.date(1991, 9, 7)),\n",
       " (57444, 'e0002', '1/30/58', 'Berry', 'Babb', 'F', datetime.date(1992, 3, 21)),\n",
       " (421786, 's0001', '9/28/57', 'Xiong', 'Verhoeff', 'M', datetime.date(1987, 11, 26)),\n",
       " (282238, 'e0003', '10/28/52', 'Abdelkader', 'Baumann', 'F', datetime.date(1991, 1, 18))]"
      ]
     },
     "execution_count": 4,
     "metadata": {},
     "output_type": "execute_result"
    }
   ],
   "source": [
    "engine.execute('SELECT * FROM \"Employees\" LIMIT 5').fetchall()\n"
   ]
  },
  {
   "cell_type": "code",
   "execution_count": null,
   "metadata": {},
   "outputs": [],
   "source": []
  }
 ],
 "metadata": {
  "kernelspec": {
   "display_name": "Python 3",
   "language": "python",
   "name": "python3"
  },
  "language_info": {
   "codemirror_mode": {
    "name": "ipython",
    "version": 3
   },
   "file_extension": ".py",
   "mimetype": "text/x-python",
   "name": "python",
   "nbconvert_exporter": "python",
   "pygments_lexer": "ipython3",
   "version": "3.7.4"
  }
 },
 "nbformat": 4,
 "nbformat_minor": 2
}
